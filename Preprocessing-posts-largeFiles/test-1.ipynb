{
 "cells": [
  {
   "cell_type": "code",
   "execution_count": 16,
   "metadata": {},
   "outputs": [],
   "source": [
    "from lxml import etree\n",
    "import csv\n",
    "\n",
    "schema = [\n",
    "    'Id',\n",
    "    'Title',\n",
    "    'Body',\n",
    "    'AcceptedAnswerId',\n",
    "    'AnswerCount',\n",
    "    'CommentCount',\n",
    "    'CommunityOwnedDate',\n",
    "    'CreationDate',\n",
    "    'FavoriteCount',\n",
    "    'LastActivityDate',\n",
    "    'LastEditDate',\n",
    "    'LastEditorDisplayName',\n",
    "    'LastEditorUserId',\n",
    "    'OwnerDisplayName',\n",
    "    'OwnerUserId',\n",
    "    'ParentId',\n",
    "    'PostTypeId',\n",
    "    'Score',\n",
    "    'Tags',\n",
    "    'ViewCount'\n",
    "    \n",
    "]\n",
    "\n",
    "def dump(fh):\n",
    "    events = etree.iterparse(fh, events = ('end',), tag = 'row')\n",
    "    for event, elem in events:\n",
    "        if elem.tag != 'row':\n",
    "            continue\n",
    "        result = []\n",
    "        for key in schema:\n",
    "            try:\n",
    "                result.append(elem.attrib[key])\n",
    "            except KeyError:\n",
    "                result.append('')\n",
    "        yield result\n",
    "        elem.clear()\n",
    "    while elem.getprevious() is not None:\n",
    "        del elem.getparent()[0]\n",
    "\n",
    "def main():\n",
    "    writer = csv.writer(open('postslinks.csv', 'w'))\n",
    "    for line in dump('D:/L4/FYP/SO dataset - Copy/PostLinks.xml'):\n",
    "        writer.writerow(line)\n",
    "\n",
    "\n",
    "if __name__ == '__main__':\n",
    "    main()"
   ]
  },
  {
   "cell_type": "code",
   "execution_count": null,
   "metadata": {},
   "outputs": [],
   "source": []
  }
 ],
 "metadata": {
  "kernelspec": {
   "display_name": "Python 3",
   "language": "python",
   "name": "python3"
  },
  "language_info": {
   "codemirror_mode": {
    "name": "ipython",
    "version": 3
   },
   "file_extension": ".py",
   "mimetype": "text/x-python",
   "name": "python",
   "nbconvert_exporter": "python",
   "pygments_lexer": "ipython3",
   "version": "3.7.3"
  }
 },
 "nbformat": 4,
 "nbformat_minor": 2
}
