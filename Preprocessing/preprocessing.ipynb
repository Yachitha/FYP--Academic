{
 "cells": [
  {
   "cell_type": "code",
   "execution_count": 1,
   "metadata": {},
   "outputs": [],
   "source": [
    "from xml.etree import cElementTree\n",
    "import csv\n",
    "\n",
    "schema = [\n",
    "    'Id',\n",
    "    'CreationDate',\n",
    "    'PostId',\n",
    "    'RelatedPostId',\n",
    "    \n",
    "]\n",
    "\n",
    "\n",
    "def dump(fh):\n",
    "    \"\"\"\n",
    "    Read a stream from FH, yield next PostLink row\n",
    "    \"\"\"\n",
    "    events = cElementTree.iterparse(fh)\n",
    "    for event, elem in events:\n",
    "        if elem.tag != 'row':\n",
    "            continue\n",
    "        result = []\n",
    "        for key in schema:\n",
    "            try:\n",
    "                result.append(elem.attrib[key])\n",
    "            except KeyError:\n",
    "                result.append('')\n",
    "        yield result\n",
    "        elem.clear()\n",
    "\n",
    "def main():\n",
    "    writer = csv.writer(open('postslinks-100k.csv', 'w'))\n",
    "    for line in dump(open('PostLinks-100k.xml')):\n",
    "        writer.writerow(line)\n",
    "\n",
    "\n",
    "if __name__ == '__main__':\n",
    "    main()"
   ]
  },
  {
   "cell_type": "code",
   "execution_count": null,
   "metadata": {},
   "outputs": [],
   "source": []
  }
 ],
 "metadata": {
  "kernelspec": {
   "display_name": "Python 3",
   "language": "python",
   "name": "python3"
  },
  "language_info": {
   "codemirror_mode": {
    "name": "ipython",
    "version": 3
   },
   "file_extension": ".py",
   "mimetype": "text/x-python",
   "name": "python",
   "nbconvert_exporter": "python",
   "pygments_lexer": "ipython3",
   "version": "3.7.3"
  }
 },
 "nbformat": 4,
 "nbformat_minor": 2
}
