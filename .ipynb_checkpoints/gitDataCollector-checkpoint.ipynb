{
 "cells": [
  {
   "cell_type": "code",
   "execution_count": 1,
   "metadata": {},
   "outputs": [
    {
     "ename": "ModuleNotFoundError",
     "evalue": "No module named 'oauth2'",
     "output_type": "error",
     "traceback": [
      "\u001b[1;31m---------------------------------------------------------------------------\u001b[0m",
      "\u001b[1;31mModuleNotFoundError\u001b[0m                       Traceback (most recent call last)",
      "\u001b[1;32m<ipython-input-1-c40e51970481>\u001b[0m in \u001b[0;36m<module>\u001b[1;34m\u001b[0m\n\u001b[1;32m----> 1\u001b[1;33m \u001b[1;32mimport\u001b[0m \u001b[0moauth2\u001b[0m\u001b[1;33m\u001b[0m\u001b[1;33m\u001b[0m\u001b[0m\n\u001b[0m",
      "\u001b[1;31mModuleNotFoundError\u001b[0m: No module named 'oauth2'"
     ]
    }
   ],
   "source": [
    "import oauth2"
   ]
  },
  {
   "cell_type": "code",
   "execution_count": 2,
   "metadata": {},
   "outputs": [
    {
     "name": "stdout",
     "output_type": "stream",
     "text": [
      "c:\\users\\yachitha sandaruwan\\appdata\\local\\programs\\python\\python37-32\\python.exe\n"
     ]
    }
   ],
   "source": [
    "from __future__ import print_function\n",
    "import sys\n",
    "print(sys.executable)"
   ]
  },
  {
   "cell_type": "code",
   "execution_count": 3,
   "metadata": {},
   "outputs": [],
   "source": [
    "import oauth2"
   ]
  },
  {
   "cell_type": "code",
   "execution_count": 8,
   "metadata": {},
   "outputs": [
    {
     "ename": "SyntaxError",
     "evalue": "invalid syntax (<ipython-input-8-6424802b2484>, line 2)",
     "output_type": "error",
     "traceback": [
      "\u001b[1;36m  File \u001b[1;32m\"<ipython-input-8-6424802b2484>\"\u001b[1;36m, line \u001b[1;32m2\u001b[0m\n\u001b[1;33m    import oauth2.web from RequestHandler\u001b[0m\n\u001b[1;37m                         ^\u001b[0m\n\u001b[1;31mSyntaxError\u001b[0m\u001b[1;31m:\u001b[0m invalid syntax\n"
     ]
    }
   ],
   "source": [
    "import oauth2\n",
    "from oauth2.web import RequestHandler\n",
    "oauth_settings = {\n",
    "    'client_id': '90cd8914de9edc3759ba7bbe14398658ce1950af',\n",
    "    'client_secret': '...',\n",
    "    'base_url': 'https://github.com/login/oauth/',\n",
    "    'redirect_url': 'http://localhost'\n",
    "}\n",
    "\n",
    "class OAuthLogin(RequestHandler):\n",
    "    def get(self):\n",
    "        oauth_client = oauth2.Client2(\n",
    "            oauth_settings['client_id'],\n",
    "            oauth_settings['client_secret'],\n",
    "            oauth_settings['base_url']\n",
    "        )\n",
    "        authorization_url = oauth_client.authorization_url(\n",
    "            redirect_uri=oauth_settings['redirect_url'],\n",
    "            params={'scope': 'user','scope':'repo'}\n",
    "        )\n",
    "        logging.debug('authorization_url: %s' % authorization_url)\n",
    "        return self.redirect(authorization_url)\n",
    "        \n",
    "    \n",
    "    \n",
    "\n",
    "class OAuthCallback(RequestHandler):\n",
    "    def get(self):\n",
    "        oauth_client = oauth2.Client2(\n",
    "            oauth_settings['client_id'],\n",
    "            oauth_settings['client_secret'],\n",
    "            oauth_settings['base_url']\n",
    "        )\n",
    "        code = self.get_argument('code')\n",
    "        data = oauth_client.access_token(code, oauth_settings['redirect_url'])\n",
    "        access_token = data.get('access_token')\n",
    "        logging.debug(access_token)\n",
    "        (headers, body) = oauth_client.request(\n",
    "            'https://github.com/api/v2/json/user/show',\n",
    "            access_token=access_token,\n",
    "            token_param='access_token'\n",
    "        )\n",
    "        logging.debug(headers.get('status'))\n",
    "        logging.debug(body)\n",
    "        return body"
   ]
  },
  {
   "cell_type": "code",
   "execution_count": null,
   "metadata": {},
   "outputs": [],
   "source": []
  }
 ],
 "metadata": {
  "kernelspec": {
   "display_name": "Python 3",
   "language": "python",
   "name": "python3"
  },
  "language_info": {
   "codemirror_mode": {
    "name": "ipython",
    "version": 3
   },
   "file_extension": ".py",
   "mimetype": "text/x-python",
   "name": "python",
   "nbconvert_exporter": "python",
   "pygments_lexer": "ipython3",
   "version": "3.7.3"
  }
 },
 "nbformat": 4,
 "nbformat_minor": 2
}
