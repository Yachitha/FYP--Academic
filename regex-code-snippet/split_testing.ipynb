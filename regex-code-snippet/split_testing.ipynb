{
 "cells": [
  {
   "cell_type": "code",
   "execution_count": 15,
   "metadata": {},
   "outputs": [
    {
     "name": "stdout",
     "output_type": "stream",
     "text": [
      "[\"I've got a menu in Python. That part was easy. I'm using <code>raw_input()</code> to get the selection from the user. \", \"The problem is that <code>raw_input</code> (and input) require the user to press <kbd>Enter</kbd> after they make a selection. Is there any way to make the program act immediately upon a keystroke? Here's what I've got so far:\", 'It would be great to have something like']\n"
     ]
    }
   ],
   "source": [
    "import re\n",
    "\n",
    "def split_test(str):\n",
    "    result = re.findall('<p>(.+?)</p>', str)\n",
    "    \n",
    "    print (result)\n",
    "    \n",
    "code_snippet = \"<p>I've got a menu in Python. That part was easy. I'm using <code>raw_input()</code> to get the selection from the user. </p>\\n<p>The problem is that <code>raw_input</code> (and input) require the user to press <kbd>Enter</kbd> after they make a selection. Is there any way to make the program act immediately upon a keystroke? Here's what I've got so far:</p>\\n<pre><code>import sys\\nprint \"\"\\\"Menu\\n1) Say Foo\\n2) Say Bar\"\"\\\"answer = raw_input(\\\"Make a selection&gt; \\\")\\nif \\\"1\\\" in answer: print \\\"foo\\\"\\nelif \\\"2\\\" in answer: print \\\"bar\\\"\\n</code></pre>\\n<p>It would be great to have something like</p>\\n<pre><code>print menu\\nwhile lastKey = \"\":\\nlastKey = check_for_recent_keystrokes()\\nif \\\"1\\\" in lastKey: #do stuff...\\n</code></pre>\"\n",
    "ss = \"<pre><code>print(\\\"system\\\")</code></pre>\"\n",
    "\n",
    "split_test(code_snippet)"
   ]
  },
  {
   "cell_type": "code",
   "execution_count": null,
   "metadata": {},
   "outputs": [],
   "source": []
  }
 ],
 "metadata": {
  "kernelspec": {
   "display_name": "Python 3",
   "language": "python",
   "name": "python3"
  },
  "language_info": {
   "codemirror_mode": {
    "name": "ipython",
    "version": 3
   },
   "file_extension": ".py",
   "mimetype": "text/x-python",
   "name": "python",
   "nbconvert_exporter": "python",
   "pygments_lexer": "ipython3",
   "version": "3.6.5"
  }
 },
 "nbformat": 4,
 "nbformat_minor": 2
}
